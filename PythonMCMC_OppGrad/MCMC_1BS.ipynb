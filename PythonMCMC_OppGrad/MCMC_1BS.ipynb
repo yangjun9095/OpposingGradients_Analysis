{
 "cells": [
  {
   "cell_type": "code",
   "execution_count": 2,
   "metadata": {},
   "outputs": [],
   "source": [
    "import numpy as np\n",
    "import emcee\n",
    "import matplotlib.pyplot as plt\n",
    "import corner\n",
    "import scipy.io"
   ]
  },
  {
   "cell_type": "code",
   "execution_count": 4,
   "metadata": {},
   "outputs": [
    {
     "name": "stdout",
     "output_type": "stream",
     "text": [
      "r1-close\n",
      "6\n"
     ]
    },
    {
     "name": "stderr",
     "output_type": "stream",
     "text": [
      "/var/folders/_r/s5340_w11gldx7_0mf4g4bpw0000gn/T/ipykernel_9411/3248737295.py:11: RuntimeWarning: Mean of empty slice\n",
      "  Rate_WT_mean = np.nanmean(data[0][construct_index]['Rate_WT_individual'], axis=1);\n",
      "/var/folders/_r/s5340_w11gldx7_0mf4g4bpw0000gn/T/ipykernel_9411/3248737295.py:16: RuntimeWarning: Mean of empty slice\n",
      "  Rate_null_mean = np.nanmean(data[0][construct_index]['Rate_null_individual'], axis=1);\n"
     ]
    }
   ],
   "source": [
    "# Load the .mat file\n",
    "data = scipy.io.loadmat('/Users/nickgravina/Dropbox/NGravina/RuntSyntetics/data.mat')\n",
    "TFinput = scipy.io.loadmat('/Users/nickgravina/Dropbox/NGravina/RuntSyntetics/TFinput.mat')\n",
    "\n",
    "# Access the Rate variables\n",
    "data = data['data']\n",
    "construct_index = 4\n",
    "#data_type = 'Rate_WT_individual'\n",
    "print(data[0][construct_index]['constructName'][0])\n",
    "\n",
    "Rate_WT_mean = np.nanmean(data[0][construct_index]['Rate_WT_individual'], axis=1);\n",
    "Rate_WT_std = np.nanstd(data[0][construct_index]['Rate_WT_individual'], axis=1);\n",
    "N_WT = data[0][construct_index]['Rate_WT_individual'].shape[1]\n",
    "\n",
    "Rate_null_mean = np.nanmean(data[0][construct_index]['Rate_null_individual'], axis=1);\n",
    "Rate_null_std = np.nanstd(data[0][construct_index]['Rate_null_individual'], axis=1);\n",
    "N_null = data[0][construct_index]['Rate_null_individual'].shape[1]\n",
    "\n",
    "APbins = data[0][construct_index]['APbins']\n",
    "\n",
    "# Access the Transcription Factor inputs\n",
    "TFinput = TFinput['TFinput']\n",
    "Bcd = TFinput[:,0]\n",
    "Runt = TFinput[:,1]\n",
    "Runt_Null = TFinput[:,2]\n",
    "\n",
    "### Remove NaN Data points ###\n",
    "# Truncate APbins to user-specified range\n",
    "NoNaN_index_null = ~np.isnan(Rate_null_mean)\n",
    "NoNaN_index_WT = ~np.isnan(Rate_WT_mean)\n",
    "NoNaN_index_Bcd = ~np.isnan(Bcd)\n",
    "NoNaN_index_Runt = ~np.isnan(Runt)\n",
    "# calculate the AP bins that are not NaNs in both WT and Null datasets\n",
    "NoNaN_index = NoNaN_index_null * NoNaN_index_WT * NoNaN_index_Bcd * NoNaN_index_Runt\n",
    "\n",
    "NoNaNindices = np.where(NoNaN_index)[0]\n",
    "\n",
    "# Truncate the vectors using the range of AP bins\n",
    "APbins= np.take(APbins, NoNaNindices)\n",
    "Rate_WT_mean = np.take(Rate_WT_mean, NoNaNindices)\n",
    "Rate_WT_std = np.take(Rate_WT_std, NoNaNindices)\n",
    "Rate_WT_err = Rate_WT_std/np.sqrt(N_WT)\n",
    "\n",
    "Rate_null_mean = np.take(Rate_null_mean, NoNaNindices)\n",
    "Rate_null_std = np.take(Rate_null_std, NoNaNindices)\n",
    "Rate_null_err = Rate_WT_std/np.sqrt(N_null)\n",
    "\n",
    "Bcd = np.take (Bcd, NoNaNindices)\n",
    "Runt = np.take (Runt, NoNaNindices)\n",
    "Runt_Null = np.take(Runt_Null, NoNaNindices)"
   ]
  },
  {
   "cell_type": "code",
   "execution_count": 19,
   "metadata": {},
   "outputs": [],
   "source": [
    "# Define the model function\n",
    "def model_1bs(theta, theta_fixed, Bcd, Runt):\n",
    "    K_r, w_rp = theta\n",
    "    R, p, K_b, w_bp = theta_fixed\n",
    "    b = Bcd/K_b\n",
    "    r = Runt/K_r\n",
    "    Z = 1 + b**6 + r + r*b**6 + p + b**6*p*w_bp+ r*p*w_rp + r*b**6*p*w_bp*w_rp\n",
    "    return R*((p + b**6*p*w_bp+ r*p*w_rp + r*b**6*p*w_bp*w_rp)/Z)\n",
    "\n",
    "def model_1bs_null(theta, theta_fixed, Bcd, Runt):\n",
    "    R, p, K_b, w_bp = theta\n",
    "    b = Bcd/K_b\n",
    "    Z = 1 + b**6 + p + (b**6)*p*w_bp\n",
    "    return R*((p + (b**6)*p*w_bp)/Z)\n",
    "\n",
    "\n",
    "# Define the log-likelihood function\n",
    "def log_likelihood(theta, model, theta_fixed, Bcd, Runt, Rate):\n",
    "    model_y = model(theta, theta_fixed, Bcd, Runt)\n",
    "    return -0.5 * np.sum((Rate - model_y)**2)\n",
    "\n",
    "# Define the log-prior function\n",
    "def log_prior_1bs_null(theta):\n",
    "    R, p, K_b, w_bp = theta\n",
    "    if (50 < R < 400) and (0.0001 < p < 1) and (0.1 < K_b < 100) and (0 < w_bp < 1000):\n",
    "        return 0.0\n",
    "    else:\n",
    "        return -np.inf\n",
    "def log_prior_1bs(theta):\n",
    "    K_r, w_rp = theta\n",
    "    if (0 < K_r < 100) and (0 < w_rp < 1.2):\n",
    "        return 0.0\n",
    "    else:\n",
    "        return -np.inf\n",
    "\n",
    "# Define the log-posterior function\n",
    "def log_posterior_1bs_null(theta, model, theta_fixed, Bcd, Runt, Rate):\n",
    "    lp = log_prior_1bs_null(theta)\n",
    "    if not np.isfinite(lp):\n",
    "        return -np.inf\n",
    "    else:\n",
    "        return lp + log_likelihood(theta, model, theta_fixed, Bcd, Runt, Rate)\n",
    "def log_posterior_1bs(theta, model, theta_fixed, Bcd, Runt, Rate):\n",
    "    lp = log_prior_1bs(theta)\n",
    "    if not np.isfinite(lp):\n",
    "        return -np.inf\n",
    "    else:\n",
    "        return lp + log_likelihood(theta, model, theta_fixed, Bcd, Runt, Rate)"
   ]
  },
  {
   "cell_type": "code",
   "execution_count": 20,
   "metadata": {},
   "outputs": [
    {
     "data": {
      "image/png": "[encoded data removed]",
      "text/plain": [
       "<Figure size 640x480 with 1 Axes>"
      ]
     },
     "metadata": {},
     "output_type": "display_data"
    },
    {
     "name": "stdout",
     "output_type": "stream",
     "text": [
      "R = 312.888786393011,  p = 0.13700862048823947,  K_b = 91.7810108952854,  w_bp = 423.2419521480201\n"
     ]
    }
   ],
   "source": [
    "####  Runt Null Fits ####\n",
    "# Set up the sampler\n",
    "ndim = 4\n",
    "nwalkers = 200\n",
    "theta0 = [100, 0.1, 10, 50]\n",
    "\n",
    "# # R, p, K_b, w_bp, K_r, w_rp\n",
    "# cov = np.diag([1, 0.01, 0.1, 1, 0.1, 0.1])**2  # Covariance matrix\n",
    "# move = emcee.moves.GaussianMove(cov)\n",
    "\n",
    "pos = [theta0 + 1e-4*np.random.randn(ndim) for i in range(nwalkers)]\n",
    "sampler = emcee.EnsembleSampler(nwalkers, ndim, log_posterior_1bs_null, \n",
    "                                args=(model_1bs_null, [], Bcd, Runt, Rate_null_mean))\n",
    "\n",
    "# Burn-in phase\n",
    "pos, _, _ = sampler.run_mcmc(pos, 10000)\n",
    "\n",
    "# Production phase\n",
    "for i in range(1):\n",
    "    sampler.reset()\n",
    "    sampler.run_mcmc(pos, 20000)\n",
    "\n",
    "    # Extract the samples\n",
    "    samples = sampler.get_chain(flat=True)\n",
    "    \n",
    "    theta0 = np.median(samples, axis=0)\n",
    "    pos = [theta0 + 1e-4*np.random.randn(ndim) for i in range(nwalkers)]\n",
    "\n",
    "# Plot the data and the model\n",
    "fig, ax = plt.subplots()\n",
    "ax.errorbar(APbins, Rate_null_mean, yerr=Rate_null_std, fmt='o', color='k', ecolor='gray', capsize=0)\n",
    "theta_nullParams = np.median(samples, axis=0)\n",
    "Rate_fit = model_1bs_null(theta_nullParams, [], Bcd, Runt)\n",
    "ax.plot(APbins, Rate_fit, color='red')\n",
    "ax.set_xlabel('AP Postion')\n",
    "ax.set_ylabel('Rate')\n",
    "plt.show()\n",
    "\n",
    "print('R = ' + str(theta_nullParams[0]) + ', ', 'p = ' + str(theta_nullParams[1]) + ', ', 'K_b = ' + str(theta_nullParams[2]) + ', ', \n",
    "      'w_bp = ' + str(theta_nullParams[3]))"
   ]
  },
  {
   "cell_type": "code",
   "execution_count": 21,
   "metadata": {},
   "outputs": [],
   "source": [
    "# # Plot the corner plot\n",
    "# labels = ['R', 'p', 'K_b', 'w_bp', 'K_r', 'w_rp']\n",
    "# fig = corner.corner(samples, labels=labels)\n",
    "# plt.show()"
   ]
  },
  {
   "cell_type": "code",
   "execution_count": 22,
   "metadata": {},
   "outputs": [
    {
     "data": {
      "image/png": "[encoded data removed]",
      "text/plain": [
       "<Figure size 640x480 with 1 Axes>"
      ]
     },
     "metadata": {},
     "output_type": "display_data"
    },
    {
     "name": "stdout",
     "output_type": "stream",
     "text": [
      "R = 312.888786393011,  p = 0.13700862048823947,  K_b = 91.7810108952854,  w_bp = 423.2419521480201, K_r = 0.0051195227173369984,  w_rp = 0.0873019776103027\n"
     ]
    }
   ],
   "source": [
    "#### Runt WT fit using Runt Null parameters ####\n",
    "# Set up the sampler\n",
    "ndim = 2\n",
    "nwalkers = 200\n",
    "theta0 = [5, 0.5]\n",
    "theta_fixed = theta_nullParams # Get Runt Null paremeters from previous cell\n",
    "\n",
    "# # R, p, K_b, w_bp, K_r, w_rp\n",
    "# cov = np.diag([1, 0.01, 0.1, 1, 0.1, 0.1])**2  # Covariance matrix\n",
    "# move = emcee.moves.GaussianMove(cov)\n",
    "\n",
    "pos = [theta0 + 1e-4*np.random.randn(ndim) for i in range(nwalkers)]\n",
    "sampler = emcee.EnsembleSampler(nwalkers, ndim, log_posterior_1bs, \n",
    "                                args=(model_1bs, theta_fixed, Bcd, Runt, Rate_WT_mean))\n",
    "\n",
    "# Burn-in phase\n",
    "pos, _, _ = sampler.run_mcmc(pos, 10000)\n",
    "\n",
    "# Production phase\n",
    "for i in range(1):\n",
    "    sampler.reset()\n",
    "    sampler.run_mcmc(pos, 20000)\n",
    "\n",
    "    # Extract the samples\n",
    "    samples = sampler.get_chain(flat=True)\n",
    "    \n",
    "    theta0 = np.median(samples, axis=0)\n",
    "    pos = [theta0 + 1e-4*np.random.randn(ndim) for i in range(nwalkers)]\n",
    "\n",
    "# Plot the data and the model\n",
    "fig, ax = plt.subplots()\n",
    "ax.errorbar(APbins, Rate_WT_mean, yerr=Rate_WT_std, fmt='o', color='k', ecolor='gray', capsize=0)\n",
    "theta_WTParams = np.median(samples, axis=0)\n",
    "Rate_fit = model_1bs(theta_WTParams, theta_nullParams, Bcd, Runt)\n",
    "ax.plot(APbins, Rate_fit, color='red')\n",
    "ax.set_xlabel('AP Postion')\n",
    "ax.set_ylabel('Rate')\n",
    "plt.show()\n",
    "\n",
    "print('R = ' + str(theta_nullParams[0]) + ', ', 'p = ' + str(theta_nullParams[1]) + ', ', 'K_b = ' + str(theta_nullParams[2]) + ', ', \n",
    "      'w_bp = ' + str(theta_nullParams[3])+ ',', 'K_r = ' + str(theta_WTParams[0]) + ', ', 'w_rp = ' + str(theta_WTParams[1]))"
   ]
  },
  {
   "cell_type": "code",
   "execution_count": 23,
   "metadata": {},
   "outputs": [],
   "source": [
    "# # Plot the corner plot\n",
    "# labels = ['K_r', 'w_rp']\n",
    "# fig = corner.corner(samples, labels=labels)\n",
    "# plt.show()"
   ]
  }
 ],
 "metadata": {
  "kernelspec": {
   "display_name": "Python 3",
   "language": "python",
   "name": "python3"
  },
  "language_info": {
   "codemirror_mode": {
    "name": "ipython",
    "version": 3
   },
   "file_extension": ".py",
   "mimetype": "text/x-python",
   "name": "python",
   "nbconvert_exporter": "python",
   "pygments_lexer": "ipython3",
   "version": "3.11.2"
  },
  "orig_nbformat": 4
 },
 "nbformat": 4,
 "nbformat_minor": 2
}
